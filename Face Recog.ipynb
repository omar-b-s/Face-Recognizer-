{
 "cells": [
  {
   "cell_type": "markdown",
   "id": "f4d02fcc-48a9-44f9-9eaf-96eeca6da68c",
   "metadata": {},
   "source": [
    "# Generate Dataset\n"
   ]
  },
  {
   "cell_type": "code",
   "execution_count": 1,
   "id": "b584bde9-6ae6-46d9-b3a9-73230f463fa1",
   "metadata": {},
   "outputs": [],
   "source": [
    "import cv2"
   ]
  },
  {
   "cell_type": "code",
   "execution_count": 2,
   "id": "f382ee40-afa1-448d-af52-b380fb7df421",
   "metadata": {},
   "outputs": [
    {
     "name": "stderr",
     "output_type": "stream",
     "text": [
      "<>:9: SyntaxWarning: \"is\" with 'tuple' literal. Did you mean \"==\"?\n",
      "/var/folders/vc/3k7g_3c126v9c36437hfp8kw0000gn/T/ipykernel_1887/1201838424.py:9: SyntaxWarning: \"is\" with 'tuple' literal. Did you mean \"==\"?\n",
      "  if faces is ():\n"
     ]
    }
   ],
   "source": [
    "def generate_dataset():\n",
    "    face_classifier = cv2.CascadeClassifier(\"haarcascade_frontalface_default.xml\")\n",
    "    def face_cropped(img):\n",
    "        gray = cv2.cvtColor(img, cv2.COLOR_BGR2GRAY)\n",
    "        faces = face_classifier.detectMultiScale(gray,1.3,5)\n",
    "        #scaling factor 1.3\n",
    "        #minimum neighbor = 5\n",
    "\n",
    "        if faces is ():\n",
    "            return None\n",
    "        for (x,y,w,h) in faces:\n",
    "            cropped_face = img[y:y+h,x:x+w]\n",
    "        return cropped_face\n",
    "\n",
    "    cap = cv2.VideoCapture(1)\n",
    "    id=1\n",
    "    img_id=0\n",
    "\n",
    "    while True:\n",
    "        ret, frame = cap.read()\n",
    "        if face_cropped(frame) is not None:\n",
    "            img_id += 1\n",
    "            face = cv2.resize(face_cropped(frame),(200,200))\n",
    "            face = cv2.cvtColor(face, cv2.COLOR_BGR2GRAY)\n",
    "            file_name_path = \"data/user.\" + str(id) + \".\" + str(img_id) + \".jpg\"\n",
    "            cv2.imwrite(file_name_path, face)\n",
    "            cv2.putText(face, str(img_id), (50, 50), cv2.FONT_HERSHEY_COMPLEX,1, (0, 255, 0 ),2 )\n",
    "            #(50, 50) is the origin point from where text is to be written\n",
    "            #font scale = 1\n",
    "            #thickness =2 \n",
    "\n",
    "            cv2.imshow(\"Cropped Face\", face)\n",
    "            if cv2.waitKey(1) == 13 or int(img_id) == 200:\n",
    "                break\n",
    "    cap.release()\n",
    "    cv2.destroyAllWindows()\n",
    "    print(\"Collecting samples is completed......\")\n",
    "#generate_dataset()\n",
    "        "
   ]
  },
  {
   "cell_type": "markdown",
   "id": "ccad1b47-05d2-4830-92ca-b158516a8bb0",
   "metadata": {},
   "source": [
    "# Train the classifier and save it\n",
    "\n"
   ]
  },
  {
   "cell_type": "code",
   "execution_count": 3,
   "id": "0de614ae-4f2c-41b2-bc16-e68b79262c24",
   "metadata": {},
   "outputs": [],
   "source": [
    "import numpy as np\n",
    "from PIL import Image\n",
    "import os\n",
    "import cv2"
   ]
  },
  {
   "cell_type": "code",
   "execution_count": 4,
   "id": "7e43ff45-9d0f-43e1-be07-6d04c3f2a659",
   "metadata": {},
   "outputs": [],
   "source": [
    "\n",
    "\n",
    "\n",
    "def train_classifier(data_dir):\n",
    "    path = [os.path.join(data_dir, f) for f in os.listdir(data_dir)]\n",
    "    faces = []\n",
    "    ids = []\n",
    "\n",
    "    for image in path:\n",
    "        # Skip folders & non-images\n",
    "        if os.path.isdir(image):\n",
    "            continue\n",
    "        if not image.lower().endswith((\".jpg\", \".jpeg\", \".png\")):\n",
    "            continue\n",
    "\n",
    "        img = Image.open(image).convert('L')\n",
    "        imageNp = np.array(img, 'uint8')\n",
    "\n",
    "        # Extract user ID from filename (e.g., user.1.1.jpg → 1)\n",
    "        id = int(os.path.split(image)[1].split(\".\")[1])\n",
    "\n",
    "        faces.append(imageNp)\n",
    "        ids.append(id)\n",
    "\n",
    "    ids = np.array(ids)\n",
    "\n",
    "    # Train the classifier\n",
    "    clf = cv2.face.LBPHFaceRecognizer_create()\n",
    "    clf.train(faces, ids)\n",
    "    clf.write(\"classifier.xml\")\n",
    "\n",
    "# Call function with your data path\n",
    "train_classifier(\"/Users/omar/Desktop/Face Recognizer/data\")\n"
   ]
  },
  {
   "cell_type": "markdown",
   "id": "ac4510a1-92ea-49e9-9e48-1895f1ef80bc",
   "metadata": {},
   "source": [
    "# Detect the face and named it if it is already stored in our dataset\n"
   ]
  },
  {
   "cell_type": "code",
   "execution_count": 5,
   "id": "7188b2b3-05f1-4edc-a0a2-ab0dfccd9287",
   "metadata": {},
   "outputs": [],
   "source": [
    "import cv2\n",
    "import numpy as np\n",
    "from PIL import Image\n",
    "import os"
   ]
  },
  {
   "cell_type": "code",
   "execution_count": null,
   "id": "515e1bb0-50e7-40c4-b704-3bc3f32ca324",
   "metadata": {},
   "outputs": [],
   "source": [
    "def draw_boundary(img, classifier, scaleFactor, minNeighbors, color, text, clf):\n",
    "    gray_image = cv2.cvtColor(img, cv2.COLOR_BGR2GRAY)\n",
    "    features = classifier.detectMultiScale(gray_image, scaleFactor, minNeighbors)\n",
    "\n",
    "    coords = []\n",
    "\n",
    "    for (x,y,w,h) in features:\n",
    "        cv2.rectangle(img, (x,y), (x+w,y+h), color,2)\n",
    "        id,pred = clf.predict(gray_image[y:y+h,x: x+w])\n",
    "        confidence = int(100*(1-pred/300))\n",
    "\n",
    "        if confidence > 77:\n",
    "            if id ==1:\n",
    "                cv2.putText(img,\"Omar\",(x,y-5), cv2.FONT_HERSHEY_SIMPLEX,0.8,color,1,cv2.LINE_AA)\n",
    "        else:\n",
    "                cv2.putText(img,\"UNKNOWN\",(x,y-5), cv2.FONT_HERSHEY_SIMPLEX,0.8,color,1,cv2.LINE_AA)\n",
    "        coords = [x,y,w,h]\n",
    "    return coords\n",
    "\n",
    "def recognize(img,clf,faceCascade):\n",
    "    coords = draw_boundary(img,faceCascade,1.1,10,(255,255,255),\"Face\", clf)\n",
    "    return img\n",
    "faceCascade= cv2.CascadeClassifier(\"haarcascade_frontalface_default.xml\")\n",
    "clf =cv2.face.LBPHFaceRecognizer_create()\n",
    "clf.read(\"classifier.xml\")\n",
    "\n",
    "video_capture = cv2.VideoCapture(1)\n",
    "                                    \n",
    "\n",
    "while True:\n",
    "    ret,img = video_capture.read()\n",
    "    img = recognize(img,clf,faceCascade)\n",
    "    cv2.imshow(\"face detection\", img)\n",
    "\n",
    "    if cv2.waitKey(1) == 13:\n",
    "        break\n",
    "\n",
    "video_capture.release()\n",
    "cv2.destroyAllWindows()\n",
    "\n",
    "\n",
    "                "
   ]
  },
  {
   "cell_type": "code",
   "execution_count": null,
   "id": "18c5d8fa-0507-4b91-b881-acc0142e95db",
   "metadata": {},
   "outputs": [],
   "source": []
  },
  {
   "cell_type": "code",
   "execution_count": null,
   "id": "2d086270-d8c8-4b85-9caa-33a0c2b2fbdd",
   "metadata": {},
   "outputs": [],
   "source": []
  }
 ],
 "metadata": {
  "kernelspec": {
   "display_name": "Python 3 (ipykernel)",
   "language": "python",
   "name": "python3"
  },
  "language_info": {
   "codemirror_mode": {
    "name": "ipython",
    "version": 3
   },
   "file_extension": ".py",
   "mimetype": "text/x-python",
   "name": "python",
   "nbconvert_exporter": "python",
   "pygments_lexer": "ipython3",
   "version": "3.13.7"
  }
 },
 "nbformat": 4,
 "nbformat_minor": 5
}
